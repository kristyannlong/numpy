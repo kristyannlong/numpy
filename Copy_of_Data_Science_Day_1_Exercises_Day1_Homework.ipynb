{
 "cells": [
  {
   "cell_type": "markdown",
   "metadata": {
    "id": "KdERlTpFuL5V"
   },
   "source": [
    "# Exercises"
   ]
  },
  {
   "cell_type": "markdown",
   "metadata": {
    "id": "to-gsrQyuL5Z"
   },
   "source": [
    "### #1 - Calculate the BMI (body mass index) on the two lists below using NDArrays..."
   ]
  },
  {
   "cell_type": "code",
   "execution_count": 12,
   "metadata": {
    "id": "iZlf9DzeuL5a"
   },
   "outputs": [
    {
     "data": {
      "text/plain": [
       "array([1163.76811594, 1251.42857143, 1336.61971831, 1419.44444444,\n",
       "       1500.        , 1578.37837838, 1654.66666667])"
      ]
     },
     "execution_count": 12,
     "metadata": {},
     "output_type": "execute_result"
    }
   ],
   "source": [
    "import numpy as np\n",
    "# formula = weight / (height**2) * 730\n",
    "height = [69, 70, 71, 72, 73, 74, 75]\n",
    "weight = [110, 120, 130, 140, 150, 160, 170]\n",
    "\n",
    "np_height = np.array(height)\n",
    "np_weight = np.array(weight)\n",
    "\n",
    "\n",
    "bmi = (np_weight / np_height) * 730\n",
    "bmi\n",
    "\n"
   ]
  },
  {
   "cell_type": "markdown",
   "metadata": {
    "id": "RSsT8w8ouL5b"
   },
   "source": [
    "### #2 - Create a function that will take in two parameters and will create a random matrix based off of those parameters. Extra: Have additional parameters taken in that allow the user to choose the shape and data type of the matrix."
   ]
  },
  {
   "cell_type": "code",
   "execution_count": 13,
   "metadata": {
    "id": "ygFvj0aeuL5b"
   },
   "outputs": [
    {
     "name": "stdout",
     "output_type": "stream",
     "text": [
      "Enter the first number for the range: 3\n",
      "Enter the last number for the range: 12\n",
      "Enter the number of rows: 2\n",
      "Enter the number of columns: 2\n",
      "Enter the data type of the matrix elements (e.g., 'float', 'int'): int\n",
      "Random Matrix:\n",
      "[[8 6]\n",
      " [5 4]]\n"
     ]
    }
   ],
   "source": [
    "import numpy as np\n",
    "\n",
    "def create_random_matrix():\n",
    "    \"\"\"\n",
    "    Create a random matrix based on user input.\n",
    "\n",
    "    Returns:\n",
    "    - numpy.ndarray: Random matrix.\n",
    "    \"\"\"\n",
    "\n",
    "    # Get user input for matrix parameters\n",
    "    first_number = float(input(\"Enter the first number for the range: \"))\n",
    "    last_number = float(input(\"Enter the last number for the range: \"))\n",
    "    \n",
    "    rows = int(input(\"Enter the number of rows: \"))\n",
    "    if rows <= 0:\n",
    "        raise ValueError(\"Invalid number of rows. Must be a positive integer.\")\n",
    "    \n",
    "    cols = int(input(\"Enter the number of columns: \"))\n",
    "    if cols <= 0:\n",
    "        raise ValueError(\"Invalid number of columns. Must be a positive integer.\")\n",
    "\n",
    "    dtype_str = input(\"Enter the data type of the matrix elements (e.g., 'float', 'int'): \").lower()\n",
    "    dtype = float if dtype_str == 'float' else int\n",
    "\n",
    "    # Create random matrix\n",
    "    matrix = np.random.uniform(first_number, last_number, (rows, cols)).astype(dtype)\n",
    "\n",
    "    return matrix\n",
    "\n",
    "# Example usage:\n",
    "random_matrix = create_random_matrix()\n",
    "print(\"Random Matrix:\")\n",
    "print(random_matrix)\n",
    "\n"
   ]
  },
  {
   "cell_type": "markdown",
   "metadata": {
    "id": "e5mP1UX9uL5c"
   },
   "source": [
    "### #3 - Extra: Open and load the data in the two text files that have the Boston Red Sox hitting data for the past seasons. Compare the difference in the two years by putting the data into an NDArray and running a differencial operation on it. The column to look for will be SLG.\n",
    "\n",
    "Your output should display which year (either 2017 or 2018) was a better year based on SLG"
   ]
  },
  {
   "cell_type": "code",
   "execution_count": 1,
   "metadata": {
    "id": "iAExC-SjuL5c"
   },
   "outputs": [
    {
     "name": "stdout",
     "output_type": "stream",
     "text": [
      "SLG Difference between 2018 and 2017:\n",
      "[-0.125 -0.01  -0.004  0.119 -0.049  0.041  0.001  0.181 -0.018 -0.071\n",
      " -0.211  0.152  0.073  0.05  -0.109]\n"
     ]
    }
   ],
   "source": [
    "FIELDS = ['Rk', 'Pos', 'Name', 'Age', 'G', 'PA', 'AB', 'R', 'H', '2B', '3B', 'HR', 'RBI', 'SB', 'CS', \n",
    "          'BB', 'SO', 'BA', 'OBP', 'SLG', 'OPS', 'OPS+', 'TB', 'GDP', 'HBP', 'SH', 'SF', 'IBB']\n",
    "\n",
    "DATATYPES = [('rk', 'i'), ('pos', '|S25'), ('name', '|S25'), ('age', 'i'), ('g', 'i'), ('pa', 'i'), ('ab', 'i'),\n",
    "                ('r', 'i'), ('h', 'i'), ('2b', 'i'), ('3b', 'i'), ('hr', 'i'), ('rbi', 'i'), ('sb', 'i'), ('cs', 'i'),\n",
    "                ('bb', 'i'), ('so', 'i'), ('ba', 'f'), ('obp', 'f'), ('slg', 'f'), ('ops', 'f'), ('opsp', 'i'),\n",
    "                ('tb', 'i'), ('gdp', 'i'), ('hbp', 'i'), ('sh', 'i'), ('sf', 'i'), ('ibb', 'i')]\n",
    "\n",
    "\n",
    "\n",
    "\n",
    "import numpy as np\n",
    "\n",
    "# Load data from the two text files\n",
    "data_2017 = np.genfromtxt('redsox_2017_hitting.txt', delimiter=',', names=True, dtype=None, encoding='utf-8')\n",
    "data_2018 = np.genfromtxt('redsox_2018_hitting.txt', delimiter=',', names=True, dtype=None, encoding='utf-8')\n",
    "\n",
    "# Extract SLG column and player names\n",
    "slg_2017 = data_2017['SLG']\n",
    "slg_2018 = data_2018['SLG']\n",
    "names = data_2017['Name']  # Assuming 'Name' is the column with player names\n",
    "\n",
    "# Find common player names\n",
    "common_names = np.intersect1d(data_2017['Name'], data_2018['Name'])\n",
    "\n",
    "# Filter data based on common names\n",
    "common_indices_2017 = np.in1d(data_2017['Name'], common_names)\n",
    "common_indices_2018 = np.in1d(data_2018['Name'], common_names)\n",
    "\n",
    "slg_2017_common = slg_2017[common_indices_2017]\n",
    "slg_2018_common = slg_2018[common_indices_2018]\n",
    "\n",
    "# Perform differential operation\n",
    "slg_difference = slg_2018_common - slg_2017_common\n",
    "\n",
    "# Print or analyze the results\n",
    "print(\"SLG Difference between 2018 and 2017:\")\n",
    "print(slg_difference)\n",
    "\n",
    "\n"
   ]
  },
  {
   "cell_type": "code",
   "execution_count": null,
   "metadata": {
    "id": "P8Rwr8lmuL5e"
   },
   "outputs": [],
   "source": [
    "FIELDS = ['Rk', 'Pos', 'Name', 'Age', 'G', 'PA', 'AB', 'R', 'H', '2B', '3B', 'HR', 'RBI', 'SB', 'CS', \n",
    "          'BB', 'SO', 'BA', 'OBP', 'SLG', 'OPS', 'OPS+', 'TB', 'GDP', 'HBP', 'SH', 'SF', 'IBB']\n",
    "\n",
    "DATATYPES = [('rk', 'i'), ('pos', '|S25'), ('name', '|S25'), ('age', 'i'), ('g', 'i'), ('pa', 'i'), ('ab', 'i'),\n",
    "                ('r', 'i'), ('h', 'i'), ('2b', 'i'), ('3b', 'i'), ('hr', 'i'), ('rbi', 'i'), ('sb', 'i'), ('cs', 'i'),\n",
    "                ('bb', 'i'), ('so', 'i'), ('ba', 'f'), ('obp', 'f'), ('slg', 'f'), ('ops', 'f'), ('opsp', 'i'),\n",
    "                ('tb', 'i'), ('gdp', 'i'), ('hbp', 'i'), ('sh', 'i'), ('sf', 'i'), ('ibb', 'i')]\n",
    "\n",
    "#Use this function to actually open the data inside of a NDArray\n",
    "\n",
    "\n"
   ]
  }
 ],
 "metadata": {
  "colab": {
   "name": "Copy of Data_Science_Day_1_Exercises-Day1- Homework.ipynb",
   "provenance": []
  },
  "kernelspec": {
   "display_name": "Python 3 (ipykernel)",
   "language": "python",
   "name": "python3"
  },
  "language_info": {
   "codemirror_mode": {
    "name": "ipython",
    "version": 3
   },
   "file_extension": ".py",
   "mimetype": "text/x-python",
   "name": "python",
   "nbconvert_exporter": "python",
   "pygments_lexer": "ipython3",
   "version": "3.11.4"
  }
 },
 "nbformat": 4,
 "nbformat_minor": 1
}
